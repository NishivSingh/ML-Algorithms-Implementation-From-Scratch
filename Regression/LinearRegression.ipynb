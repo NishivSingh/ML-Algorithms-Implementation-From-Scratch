{
 "cells": [
  {
   "cell_type": "markdown",
   "id": "ddbd704d",
   "metadata": {},
   "source": [
    "# Normal Equation Method"
   ]
  },
  {
   "cell_type": "code",
   "execution_count": 1,
   "id": "99b7f57b",
   "metadata": {},
   "outputs": [],
   "source": [
    "import numpy as np\n",
    "import pandas as pd"
   ]
  },
  {
   "cell_type": "markdown",
   "id": "7186059a",
   "metadata": {},
   "source": [
    "**Normal Equation for Linear Regression:**\n",
    "\n",
    "$$\n",
    "\\mathbf{w} = \\left( \\mathbf{X}^T \\mathbf{X} \\right)^{-1} \\mathbf{X}^T \\mathbf{y}\n",
    "$$\n"
   ]
  },
  {
   "cell_type": "code",
   "execution_count": null,
   "id": "da790ef3",
   "metadata": {},
   "outputs": [],
   "source": [
    "class LinearRegression_NE():\n",
    "    def __init__(self):\n",
    "        self.weights = None\n",
    "\n",
    "    def fit(self,X,y):\n",
    "        m = X.shape[0]\n",
    "        X = np.hstack((np.ones((m,1)),np.array(X)))\n",
    "        y = np.array(y).reshape(-1)\n",
    "\n",
    "        self.weights = np.linalg.pinv(X.T@X)@(X.T@y)\n",
    "\n",
    "    def predict(self,X):\n",
    "        if self.weights is None:\n",
    "            raise ValueError(\"Model has not been fitted yet\")\n",
    "            \n",
    "        m = X.shape[0]\n",
    "        X = np.hstack((np.ones((m,1)),np.array(X)))\n",
    "        return X@self.weights\n",
    "    \n",
    "    def get_weights(self):\n",
    "        return self.weights\n"
   ]
  }
 ],
 "metadata": {
  "kernelspec": {
   "display_name": "Python 3",
   "language": "python",
   "name": "python3"
  },
  "language_info": {
   "codemirror_mode": {
    "name": "ipython",
    "version": 3
   },
   "file_extension": ".py",
   "mimetype": "text/x-python",
   "name": "python",
   "nbconvert_exporter": "python",
   "pygments_lexer": "ipython3",
   "version": "3.11.3"
  }
 },
 "nbformat": 4,
 "nbformat_minor": 5
}
