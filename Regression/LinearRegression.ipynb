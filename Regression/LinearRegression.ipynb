{
 "cells": [
  {
   "cell_type": "markdown",
   "id": "ddbd704d",
   "metadata": {},
   "source": [
    "# Normal Equation Method"
   ]
  },
  {
   "cell_type": "code",
   "execution_count": 1,
   "id": "99b7f57b",
   "metadata": {},
   "outputs": [],
   "source": [
    "import numpy as np"
   ]
  },
  {
   "cell_type": "markdown",
   "id": "7186059a",
   "metadata": {},
   "source": [
    "**Normal Equation for Linear Regression:**\n",
    "\n",
    "$$\n",
    "\\mathbf{w} = \\left( \\mathbf{X}^T \\mathbf{X} \\right)^{-1} \\mathbf{X}^T \\mathbf{y}\n",
    "$$\n"
   ]
  },
  {
   "cell_type": "code",
   "execution_count": null,
   "id": "da790ef3",
   "metadata": {},
   "outputs": [],
   "source": [
    "class LinearRegression_NE():\n",
    "    def __init__(self):\n",
    "        self.weights = None\n",
    "\n",
    "    def fit(self,X,y):\n",
    "        m = X.shape[0]\n",
    "        X = np.hstack((np.ones((m,1)),np.array(X)))\n",
    "        y = np.array(y).reshape(-1)\n",
    "\n",
    "        self.weights = np.linalg.pinv(X.T@X)@(X.T@y)\n",
    "\n",
    "    def predict(self,X):\n",
    "        if self.weights is None:\n",
    "            raise ValueError(\"Model has not been fitted yet\")\n",
    "            \n",
    "        m = X.shape[0]\n",
    "        X = np.hstack((np.ones((m,1)),np.array(X)))\n",
    "        return X@self.weights\n",
    "    \n",
    "    def get_weights(self):\n",
    "        return self.weights\n"
   ]
  },
  {
   "cell_type": "code",
   "execution_count": 41,
   "id": "3f831953",
   "metadata": {},
   "outputs": [],
   "source": [
    "import pandas as pd\n",
    "df = pd.DataFrame({'soap':[4,4.5,5,5.5,6,6.5,7],\n",
    "                   'suds': [33,42,45,51,53,61,62]})"
   ]
  },
  {
   "cell_type": "code",
   "execution_count": 42,
   "id": "435d6e55",
   "metadata": {},
   "outputs": [],
   "source": [
    "X = df.iloc[:,:-1]\n",
    "y = df.iloc[:,-1]"
   ]
  },
  {
   "cell_type": "code",
   "execution_count": 43,
   "id": "4eefbc9f",
   "metadata": {},
   "outputs": [
    {
     "data": {
      "text/html": [
       "<div>\n",
       "<style scoped>\n",
       "    .dataframe tbody tr th:only-of-type {\n",
       "        vertical-align: middle;\n",
       "    }\n",
       "\n",
       "    .dataframe tbody tr th {\n",
       "        vertical-align: top;\n",
       "    }\n",
       "\n",
       "    .dataframe thead th {\n",
       "        text-align: right;\n",
       "    }\n",
       "</style>\n",
       "<table border=\"1\" class=\"dataframe\">\n",
       "  <thead>\n",
       "    <tr style=\"text-align: right;\">\n",
       "      <th></th>\n",
       "      <th>soap</th>\n",
       "    </tr>\n",
       "  </thead>\n",
       "  <tbody>\n",
       "    <tr>\n",
       "      <th>0</th>\n",
       "      <td>4.0</td>\n",
       "    </tr>\n",
       "    <tr>\n",
       "      <th>1</th>\n",
       "      <td>4.5</td>\n",
       "    </tr>\n",
       "    <tr>\n",
       "      <th>2</th>\n",
       "      <td>5.0</td>\n",
       "    </tr>\n",
       "    <tr>\n",
       "      <th>3</th>\n",
       "      <td>5.5</td>\n",
       "    </tr>\n",
       "    <tr>\n",
       "      <th>4</th>\n",
       "      <td>6.0</td>\n",
       "    </tr>\n",
       "    <tr>\n",
       "      <th>5</th>\n",
       "      <td>6.5</td>\n",
       "    </tr>\n",
       "    <tr>\n",
       "      <th>6</th>\n",
       "      <td>7.0</td>\n",
       "    </tr>\n",
       "  </tbody>\n",
       "</table>\n",
       "</div>"
      ],
      "text/plain": [
       "   soap\n",
       "0   4.0\n",
       "1   4.5\n",
       "2   5.0\n",
       "3   5.5\n",
       "4   6.0\n",
       "5   6.5\n",
       "6   7.0"
      ]
     },
     "execution_count": 43,
     "metadata": {},
     "output_type": "execute_result"
    }
   ],
   "source": [
    "X"
   ]
  },
  {
   "cell_type": "code",
   "execution_count": 44,
   "id": "72526ea7",
   "metadata": {},
   "outputs": [
    {
     "data": {
      "text/plain": [
       "0    33\n",
       "1    42\n",
       "2    45\n",
       "3    51\n",
       "4    53\n",
       "5    61\n",
       "6    62\n",
       "Name: suds, dtype: int64"
      ]
     },
     "execution_count": 44,
     "metadata": {},
     "output_type": "execute_result"
    }
   ],
   "source": [
    "y"
   ]
  },
  {
   "cell_type": "code",
   "execution_count": 45,
   "id": "a497ca35",
   "metadata": {},
   "outputs": [],
   "source": [
    "model = LinearRegression_NE()\n",
    "model.fit(X,y)"
   ]
  },
  {
   "cell_type": "code",
   "execution_count": 46,
   "id": "8fd9a618",
   "metadata": {},
   "outputs": [
    {
     "data": {
      "text/plain": [
       "array([-2.67857143,  9.5       ])"
      ]
     },
     "execution_count": 46,
     "metadata": {},
     "output_type": "execute_result"
    }
   ],
   "source": [
    "model.get_weights()"
   ]
  }
 ],
 "metadata": {
  "kernelspec": {
   "display_name": "Python 3",
   "language": "python",
   "name": "python3"
  },
  "language_info": {
   "codemirror_mode": {
    "name": "ipython",
    "version": 3
   },
   "file_extension": ".py",
   "mimetype": "text/x-python",
   "name": "python",
   "nbconvert_exporter": "python",
   "pygments_lexer": "ipython3",
   "version": "3.11.3"
  }
 },
 "nbformat": 4,
 "nbformat_minor": 5
}
