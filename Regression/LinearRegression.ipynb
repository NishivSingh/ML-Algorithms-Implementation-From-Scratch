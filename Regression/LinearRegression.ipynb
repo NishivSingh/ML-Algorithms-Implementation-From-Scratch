{
 "cells": [
  {
   "cell_type": "markdown",
   "id": "ddbd704d",
   "metadata": {},
   "source": [
    "# Normal Equation Method"
   ]
  },
  {
   "cell_type": "code",
   "execution_count": 2,
   "id": "99b7f57b",
   "metadata": {},
   "outputs": [],
   "source": [
    "import numpy as np\n",
    "import pandas as pd"
   ]
  },
  {
   "cell_type": "markdown",
   "id": "7186059a",
   "metadata": {},
   "source": [
    "**Normal Equation for Linear Regression:**\n",
    "\n",
    "The Normal Equation provides a closed-form solution for $\\mathbf{\\theta}$ :\n",
    "$$\n",
    "\\mathbf{\\theta} = \\left( \\mathbf{X}^T \\mathbf{X} \\right)^{-1} \\mathbf{X}^T \\mathbf{y}\n",
    "$$\n"
   ]
  },
  {
   "cell_type": "markdown",
   "id": "99014a97",
   "metadata": {},
   "source": [
    "## Implementation"
   ]
  },
  {
   "cell_type": "code",
   "execution_count": null,
   "id": "da790ef3",
   "metadata": {},
   "outputs": [],
   "source": [
    "class LinearRegression_NE():\n",
    "    def __init__(self):\n",
    "        self.weights = None\n",
    "\n",
    "    def fit(self,X,y):\n",
    "        m = X.shape[0]\n",
    "        X = np.hstack((np.ones((m,1)),np.array(X)))  # Creating column of 1's for bias term\n",
    "        y = np.array(y).reshape(-1)\n",
    "\n",
    "        self.weights = np.linalg.pinv(X.T@X)@(X.T@y)\n",
    "\n",
    "    def predict(self,X):\n",
    "        if self.weights is None:\n",
    "            raise ValueError(\"Model has not been fitted yet\")\n",
    "            \n",
    "        m = X.shape[0]\n",
    "        X = np.hstack((np.ones((m,1)),np.array(X)))\n",
    "        return X@self.weights\n",
    "    \n",
    "    def get_weights(self):\n",
    "        return self.weights\n"
   ]
  },
  {
   "cell_type": "markdown",
   "id": "c803ce01",
   "metadata": {},
   "source": [
    "## Sample Data Test & Comparison"
   ]
  },
  {
   "cell_type": "code",
   "execution_count": 9,
   "id": "6159b03e",
   "metadata": {},
   "outputs": [],
   "source": [
    "from sklearn.linear_model import LinearRegression\n",
    "\n",
    "# Sample DataFrame with features and a target column\n",
    "data = {\n",
    "    'Feature1': [1, 2, 3, 4, 5],\n",
    "    'Feature2': [2, 1, 3, 5, 4],\n",
    "    'Feature3': [5, 3, 2, 4, 1],\n",
    "    'Target':    [10, 9, 15, 21, 19]\n",
    "}\n",
    "\n",
    "df = pd.DataFrame(data)\n",
    "\n",
    "# Prepare X and y\n",
    "X = df[['Feature1','Feature2','Feature3']].values\n",
    "y = df['Target'].values"
   ]
  },
  {
   "cell_type": "code",
   "execution_count": 10,
   "id": "ed1a4dda",
   "metadata": {},
   "outputs": [
    {
     "name": "stdout",
     "output_type": "stream",
     "text": [
      "Predictions from Normal Equation model: [10.3  8.8 14.8 20.8 19.3]\n",
      "Predictions from scikit-learn model: [10.3  8.8 14.8 20.8 19.3]\n"
     ]
    }
   ],
   "source": [
    "# Implemented Linear Regression Model\n",
    "model_ne = LinearRegression_NE()\n",
    "model_ne.fit(X, y)\n",
    "predictions_ne = model_ne.predict(X)\n",
    "\n",
    "print(\"Predictions from Normal Equation model:\", predictions_ne)\n",
    "\n",
    "# Scikit-learn Linear Regression for comparison\n",
    "model_sklearn = LinearRegression()\n",
    "model_sklearn.fit(X, y)\n",
    "predictions_sklearn = model_sklearn.predict(X)\n",
    "\n",
    "print(\"Predictions from scikit-learn model:\", predictions_sklearn)\n"
   ]
  },
  {
   "cell_type": "code",
   "execution_count": 11,
   "id": "ff9ab229",
   "metadata": {},
   "outputs": [
    {
     "name": "stdout",
     "output_type": "stream",
     "text": [
      "Learned Weights from Normal Equation model: [4.30000000e+00 1.00000000e+00 2.50000000e+00 5.68434189e-14]\n",
      "Learned Weights from scikit-learn model: [4.300000000000001, 0.9999999999999998, 2.500000000000001, -6.275240856268005e-16]\n"
     ]
    }
   ],
   "source": [
    "print(\"Learned Weights from Normal Equation model:\", model_ne.get_weights())\n",
    "print(\"Learned Weights from scikit-learn model:\", [model_sklearn.intercept_] + list(model_sklearn.coef_))"
   ]
  },
  {
   "cell_type": "markdown",
   "id": "69e33545",
   "metadata": {},
   "source": [
    "The tiny differences (e.g., 5.68e-14 or -6.27e-16) are due to floating-point precision."
   ]
  }
 ],
 "metadata": {
  "kernelspec": {
   "display_name": "Python 3",
   "language": "python",
   "name": "python3"
  },
  "language_info": {
   "codemirror_mode": {
    "name": "ipython",
    "version": 3
   },
   "file_extension": ".py",
   "mimetype": "text/x-python",
   "name": "python",
   "nbconvert_exporter": "python",
   "pygments_lexer": "ipython3",
   "version": "3.11.3"
  }
 },
 "nbformat": 4,
 "nbformat_minor": 5
}
