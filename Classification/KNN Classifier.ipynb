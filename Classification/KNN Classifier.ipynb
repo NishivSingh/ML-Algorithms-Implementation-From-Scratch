{
 "cells": [
  {
   "cell_type": "code",
   "execution_count": 1,
   "id": "32c81086",
   "metadata": {},
   "outputs": [],
   "source": [
    "import numpy as np\n",
    "import pandas as pd"
   ]
  },
  {
   "cell_type": "code",
   "execution_count": null,
   "id": "4a5e52a0",
   "metadata": {},
   "outputs": [],
   "source": [
    "class KNN:\n",
    "\n",
    "    def __init__(self, k = 3,metric = 'euclidean'):\n",
    "        self.k = k\n",
    "        self.metric = metric\n",
    "\n",
    "    def distance(self,x1,x2,metric):\n",
    "\n",
    "        if (metric == 'euclidean'):\n",
    "            return np.sqrt(np.sum((x1-x2)**2))\n",
    "\n",
    "        elif (metric == 'manhattan'):\n",
    "            return np.sum(np.abs(x1-x2))\n",
    "\n",
    "        elif (metric == 'minkowski'):\n",
    "            return (np.sum((np.abs(x1-x2))**self.k)) ** (1/self.k)\n",
    "\n",
    "        return -1\n",
    "        \n",
    "\n",
    "    def fit(self,X,y):\n",
    "        self.X = X\n",
    "        self.y = y\n"
   ]
  }
 ],
 "metadata": {
  "kernelspec": {
   "display_name": "Python 3",
   "language": "python",
   "name": "python3"
  },
  "language_info": {
   "codemirror_mode": {
    "name": "ipython",
    "version": 3
   },
   "file_extension": ".py",
   "mimetype": "text/x-python",
   "name": "python",
   "nbconvert_exporter": "python",
   "pygments_lexer": "ipython3",
   "version": "3.11.3"
  }
 },
 "nbformat": 4,
 "nbformat_minor": 5
}
